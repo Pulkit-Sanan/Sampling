{
  "cells": [
    {
      "cell_type": "code",
      "execution_count": 1,
      "metadata": {
        "id": "xWCb1eu5lRB9"
      },
      "outputs": [
        {
          "name": "stderr",
          "output_type": "stream",
          "text": [
            "/tmp/ipykernel_2169/3943573361.py:2: DeprecationWarning: \n",
            "Pyarrow will become a required dependency of pandas in the next major release of pandas (pandas 3.0),\n",
            "(to allow more performant data types, such as the Arrow string type, and better interoperability with other libraries)\n",
            "but was not found to be installed on your system.\n",
            "If this would cause problems for you,\n",
            "please provide us feedback at https://github.com/pandas-dev/pandas/issues/54466\n",
            "        \n",
            "  import pandas as pd\n"
          ]
        }
      ],
      "source": [
        "import numpy as np\n",
        "import pandas as pd\n",
        "import imblearn\n",
        "import matplotlib.pyplot as plt"
      ]
    },
    {
      "cell_type": "code",
      "execution_count": 2,
      "metadata": {
        "colab": {
          "base_uri": "https://localhost:8080/",
          "height": 255
        },
        "id": "mgHK7fYBlcLl",
        "outputId": "14c5f1a3-56db-422a-d27c-70702617fdac"
      },
      "outputs": [
        {
          "data": {
            "text/html": [
              "<div>\n",
              "<style scoped>\n",
              "    .dataframe tbody tr th:only-of-type {\n",
              "        vertical-align: middle;\n",
              "    }\n",
              "\n",
              "    .dataframe tbody tr th {\n",
              "        vertical-align: top;\n",
              "    }\n",
              "\n",
              "    .dataframe thead th {\n",
              "        text-align: right;\n",
              "    }\n",
              "</style>\n",
              "<table border=\"1\" class=\"dataframe\">\n",
              "  <thead>\n",
              "    <tr style=\"text-align: right;\">\n",
              "      <th></th>\n",
              "      <th>Time</th>\n",
              "      <th>V1</th>\n",
              "      <th>V2</th>\n",
              "      <th>V3</th>\n",
              "      <th>V4</th>\n",
              "      <th>V5</th>\n",
              "      <th>V6</th>\n",
              "      <th>V7</th>\n",
              "      <th>V8</th>\n",
              "      <th>V9</th>\n",
              "      <th>...</th>\n",
              "      <th>V21</th>\n",
              "      <th>V22</th>\n",
              "      <th>V23</th>\n",
              "      <th>V24</th>\n",
              "      <th>V25</th>\n",
              "      <th>V26</th>\n",
              "      <th>V27</th>\n",
              "      <th>V28</th>\n",
              "      <th>Amount</th>\n",
              "      <th>Class</th>\n",
              "    </tr>\n",
              "  </thead>\n",
              "  <tbody>\n",
              "    <tr>\n",
              "      <th>0</th>\n",
              "      <td>0</td>\n",
              "      <td>-1.359807</td>\n",
              "      <td>-0.072781</td>\n",
              "      <td>2.536347</td>\n",
              "      <td>1.378155</td>\n",
              "      <td>-0.338321</td>\n",
              "      <td>0.462388</td>\n",
              "      <td>0.239599</td>\n",
              "      <td>0.098698</td>\n",
              "      <td>0.363787</td>\n",
              "      <td>...</td>\n",
              "      <td>-0.018307</td>\n",
              "      <td>0.277838</td>\n",
              "      <td>-0.110474</td>\n",
              "      <td>0.066928</td>\n",
              "      <td>0.128539</td>\n",
              "      <td>-0.189115</td>\n",
              "      <td>0.133558</td>\n",
              "      <td>-0.021053</td>\n",
              "      <td>149.62</td>\n",
              "      <td>0</td>\n",
              "    </tr>\n",
              "    <tr>\n",
              "      <th>1</th>\n",
              "      <td>0</td>\n",
              "      <td>1.191857</td>\n",
              "      <td>0.266151</td>\n",
              "      <td>0.166480</td>\n",
              "      <td>0.448154</td>\n",
              "      <td>0.060018</td>\n",
              "      <td>-0.082361</td>\n",
              "      <td>-0.078803</td>\n",
              "      <td>0.085102</td>\n",
              "      <td>-0.255425</td>\n",
              "      <td>...</td>\n",
              "      <td>-0.225775</td>\n",
              "      <td>-0.638672</td>\n",
              "      <td>0.101288</td>\n",
              "      <td>-0.339846</td>\n",
              "      <td>0.167170</td>\n",
              "      <td>0.125895</td>\n",
              "      <td>-0.008983</td>\n",
              "      <td>0.014724</td>\n",
              "      <td>2.69</td>\n",
              "      <td>1</td>\n",
              "    </tr>\n",
              "    <tr>\n",
              "      <th>2</th>\n",
              "      <td>1</td>\n",
              "      <td>-1.358354</td>\n",
              "      <td>-1.340163</td>\n",
              "      <td>1.773209</td>\n",
              "      <td>0.379780</td>\n",
              "      <td>-0.503198</td>\n",
              "      <td>1.800499</td>\n",
              "      <td>0.791461</td>\n",
              "      <td>0.247676</td>\n",
              "      <td>-1.514654</td>\n",
              "      <td>...</td>\n",
              "      <td>0.247998</td>\n",
              "      <td>0.771679</td>\n",
              "      <td>0.909412</td>\n",
              "      <td>-0.689281</td>\n",
              "      <td>-0.327642</td>\n",
              "      <td>-0.139097</td>\n",
              "      <td>-0.055353</td>\n",
              "      <td>-0.059752</td>\n",
              "      <td>378.66</td>\n",
              "      <td>0</td>\n",
              "    </tr>\n",
              "    <tr>\n",
              "      <th>3</th>\n",
              "      <td>1</td>\n",
              "      <td>-0.966272</td>\n",
              "      <td>-0.185226</td>\n",
              "      <td>1.792993</td>\n",
              "      <td>-0.863291</td>\n",
              "      <td>-0.010309</td>\n",
              "      <td>1.247203</td>\n",
              "      <td>0.237609</td>\n",
              "      <td>0.377436</td>\n",
              "      <td>-1.387024</td>\n",
              "      <td>...</td>\n",
              "      <td>-0.108300</td>\n",
              "      <td>0.005274</td>\n",
              "      <td>-0.190321</td>\n",
              "      <td>-1.175575</td>\n",
              "      <td>0.647376</td>\n",
              "      <td>-0.221929</td>\n",
              "      <td>0.062723</td>\n",
              "      <td>0.061458</td>\n",
              "      <td>123.50</td>\n",
              "      <td>0</td>\n",
              "    </tr>\n",
              "    <tr>\n",
              "      <th>4</th>\n",
              "      <td>2</td>\n",
              "      <td>-1.158233</td>\n",
              "      <td>0.877737</td>\n",
              "      <td>1.548718</td>\n",
              "      <td>0.403034</td>\n",
              "      <td>-0.407193</td>\n",
              "      <td>0.095921</td>\n",
              "      <td>0.592941</td>\n",
              "      <td>-0.270533</td>\n",
              "      <td>0.817739</td>\n",
              "      <td>...</td>\n",
              "      <td>-0.009431</td>\n",
              "      <td>0.798278</td>\n",
              "      <td>-0.137458</td>\n",
              "      <td>0.141267</td>\n",
              "      <td>-0.206010</td>\n",
              "      <td>0.502292</td>\n",
              "      <td>0.219422</td>\n",
              "      <td>0.215153</td>\n",
              "      <td>69.99</td>\n",
              "      <td>0</td>\n",
              "    </tr>\n",
              "  </tbody>\n",
              "</table>\n",
              "<p>5 rows × 31 columns</p>\n",
              "</div>"
            ],
            "text/plain": [
              "   Time        V1        V2        V3        V4        V5        V6        V7  \\\n",
              "0     0 -1.359807 -0.072781  2.536347  1.378155 -0.338321  0.462388  0.239599   \n",
              "1     0  1.191857  0.266151  0.166480  0.448154  0.060018 -0.082361 -0.078803   \n",
              "2     1 -1.358354 -1.340163  1.773209  0.379780 -0.503198  1.800499  0.791461   \n",
              "3     1 -0.966272 -0.185226  1.792993 -0.863291 -0.010309  1.247203  0.237609   \n",
              "4     2 -1.158233  0.877737  1.548718  0.403034 -0.407193  0.095921  0.592941   \n",
              "\n",
              "         V8        V9  ...       V21       V22       V23       V24       V25  \\\n",
              "0  0.098698  0.363787  ... -0.018307  0.277838 -0.110474  0.066928  0.128539   \n",
              "1  0.085102 -0.255425  ... -0.225775 -0.638672  0.101288 -0.339846  0.167170   \n",
              "2  0.247676 -1.514654  ...  0.247998  0.771679  0.909412 -0.689281 -0.327642   \n",
              "3  0.377436 -1.387024  ... -0.108300  0.005274 -0.190321 -1.175575  0.647376   \n",
              "4 -0.270533  0.817739  ... -0.009431  0.798278 -0.137458  0.141267 -0.206010   \n",
              "\n",
              "        V26       V27       V28  Amount  Class  \n",
              "0 -0.189115  0.133558 -0.021053  149.62      0  \n",
              "1  0.125895 -0.008983  0.014724    2.69      1  \n",
              "2 -0.139097 -0.055353 -0.059752  378.66      0  \n",
              "3 -0.221929  0.062723  0.061458  123.50      0  \n",
              "4  0.502292  0.219422  0.215153   69.99      0  \n",
              "\n",
              "[5 rows x 31 columns]"
            ]
          },
          "execution_count": 2,
          "metadata": {},
          "output_type": "execute_result"
        }
      ],
      "source": [
        "data=pd.read_csv('Creditcard_data.csv')\n",
        "data.head()"
      ]
    },
    {
      "cell_type": "code",
      "execution_count": 3,
      "metadata": {
        "colab": {
          "base_uri": "https://localhost:8080/"
        },
        "id": "jvKoFOualkXy",
        "outputId": "0ed61e0a-b133-4015-85e0-bbcf3f854aff"
      },
      "outputs": [
        {
          "data": {
            "text/plain": [
              "(772, 31)"
            ]
          },
          "execution_count": 3,
          "metadata": {},
          "output_type": "execute_result"
        }
      ],
      "source": [
        "data.shape"
      ]
    },
    {
      "cell_type": "code",
      "execution_count": 4,
      "metadata": {
        "colab": {
          "base_uri": "https://localhost:8080/"
        },
        "id": "bDWV-vhMmpxF",
        "outputId": "1121567a-483e-4aa0-adfa-9cbe2434be97"
      },
      "outputs": [
        {
          "name": "stdout",
          "output_type": "stream",
          "text": [
            "<class 'pandas.core.frame.DataFrame'>\n",
            "RangeIndex: 772 entries, 0 to 771\n",
            "Data columns (total 31 columns):\n",
            " #   Column  Non-Null Count  Dtype  \n",
            "---  ------  --------------  -----  \n",
            " 0   Time    772 non-null    int64  \n",
            " 1   V1      772 non-null    float64\n",
            " 2   V2      772 non-null    float64\n",
            " 3   V3      772 non-null    float64\n",
            " 4   V4      772 non-null    float64\n",
            " 5   V5      772 non-null    float64\n",
            " 6   V6      772 non-null    float64\n",
            " 7   V7      772 non-null    float64\n",
            " 8   V8      772 non-null    float64\n",
            " 9   V9      772 non-null    float64\n",
            " 10  V10     772 non-null    float64\n",
            " 11  V11     772 non-null    float64\n",
            " 12  V12     772 non-null    float64\n",
            " 13  V13     772 non-null    float64\n",
            " 14  V14     772 non-null    float64\n",
            " 15  V15     772 non-null    float64\n",
            " 16  V16     772 non-null    float64\n",
            " 17  V17     772 non-null    float64\n",
            " 18  V18     772 non-null    float64\n",
            " 19  V19     772 non-null    float64\n",
            " 20  V20     772 non-null    float64\n",
            " 21  V21     772 non-null    float64\n",
            " 22  V22     772 non-null    float64\n",
            " 23  V23     772 non-null    float64\n",
            " 24  V24     772 non-null    float64\n",
            " 25  V25     772 non-null    float64\n",
            " 26  V26     772 non-null    float64\n",
            " 27  V27     772 non-null    float64\n",
            " 28  V28     772 non-null    float64\n",
            " 29  Amount  772 non-null    float64\n",
            " 30  Class   772 non-null    int64  \n",
            "dtypes: float64(29), int64(2)\n",
            "memory usage: 187.1 KB\n"
          ]
        }
      ],
      "source": [
        "data.info()"
      ]
    },
    {
      "cell_type": "code",
      "execution_count": 5,
      "metadata": {
        "colab": {
          "base_uri": "https://localhost:8080/"
        },
        "id": "w1XCWCnylmr9",
        "outputId": "dc6ccfa8-2845-4f6b-9135-a7739bf4befe"
      },
      "outputs": [
        {
          "data": {
            "text/plain": [
              "Time      0\n",
              "V1        0\n",
              "V2        0\n",
              "V3        0\n",
              "V4        0\n",
              "V5        0\n",
              "V6        0\n",
              "V7        0\n",
              "V8        0\n",
              "V9        0\n",
              "V10       0\n",
              "V11       0\n",
              "V12       0\n",
              "V13       0\n",
              "V14       0\n",
              "V15       0\n",
              "V16       0\n",
              "V17       0\n",
              "V18       0\n",
              "V19       0\n",
              "V20       0\n",
              "V21       0\n",
              "V22       0\n",
              "V23       0\n",
              "V24       0\n",
              "V25       0\n",
              "V26       0\n",
              "V27       0\n",
              "V28       0\n",
              "Amount    0\n",
              "Class     0\n",
              "dtype: int64"
            ]
          },
          "execution_count": 5,
          "metadata": {},
          "output_type": "execute_result"
        }
      ],
      "source": [
        "data.isnull().sum()"
      ]
    },
    {
      "cell_type": "code",
      "execution_count": 6,
      "metadata": {
        "colab": {
          "base_uri": "https://localhost:8080/"
        },
        "id": "kKKjoHn1mla-",
        "outputId": "3256e040-9db0-4eb7-dc9c-a49b370781e8"
      },
      "outputs": [
        {
          "data": {
            "text/plain": [
              "Class\n",
              "0    763\n",
              "1      9\n",
              "Name: count, dtype: int64"
            ]
          },
          "execution_count": 6,
          "metadata": {},
          "output_type": "execute_result"
        }
      ],
      "source": [
        "data['Class'].value_counts()"
      ]
    },
    {
      "cell_type": "code",
      "execution_count": 7,
      "metadata": {
        "colab": {
          "base_uri": "https://localhost:8080/",
          "height": 447
        },
        "id": "NqOdt-GTnFos",
        "outputId": "6fb5be43-dc9d-4bcc-fdd9-53e36de0ea2a"
      },
      "outputs": [
        {
          "data": {
            "image/png": "[encoded data removed]",
            "text/plain": [
              "<Figure size 640x480 with 1 Axes>"
            ]
          },
          "metadata": {},
          "output_type": "display_data"
        }
      ],
      "source": [
        "data['Class'].value_counts().plot(kind='bar',title='Before balancing the dataset')\n",
        "plt.show()"
      ]
    },
    {
      "cell_type": "code",
      "execution_count": 8,
      "metadata": {
        "id": "El3yn3x8njts"
      },
      "outputs": [],
      "source": [
        "X = data.drop('Class', axis = 1)\n",
        "y = data['Class']"
      ]
    },
    {
      "cell_type": "markdown",
      "metadata": {
        "id": "qgrzquqInr_4"
      },
      "source": [
        "**OVERSAMPLING TECHNIQUE TO BALANCE THE DATASET**"
      ]
    },
    {
      "cell_type": "markdown",
      "metadata": {
        "id": "rflMGvRdpakt"
      },
      "source": [
        "SMOTE used"
      ]
    },
    {
      "cell_type": "code",
      "execution_count": 9,
      "metadata": {
        "id": "XH262NHFnpbD"
      },
      "outputs": [],
      "source": [
        "from imblearn.over_sampling import SMOTE\n",
        "smote=SMOTE()\n",
        "X_newsample,y_newsample=smote.fit_resample(X, y)\n",
        "data_new=X_newsample.join(y_newsample)"
      ]
    },
    {
      "cell_type": "code",
      "execution_count": 10,
      "metadata": {
        "colab": {
          "base_uri": "https://localhost:8080/",
          "height": 443
        },
        "id": "96y5EYf7oq7Q",
        "outputId": "9dfe28d1-b8c1-4cdf-da8b-4254ce23cb6e"
      },
      "outputs": [
        {
          "data": {
            "text/html": [
              "<div>\n",
              "<style scoped>\n",
              "    .dataframe tbody tr th:only-of-type {\n",
              "        vertical-align: middle;\n",
              "    }\n",
              "\n",
              "    .dataframe tbody tr th {\n",
              "        vertical-align: top;\n",
              "    }\n",
              "\n",
              "    .dataframe thead th {\n",
              "        text-align: right;\n",
              "    }\n",
              "</style>\n",
              "<table border=\"1\" class=\"dataframe\">\n",
              "  <thead>\n",
              "    <tr style=\"text-align: right;\">\n",
              "      <th></th>\n",
              "      <th>Time</th>\n",
              "      <th>V1</th>\n",
              "      <th>V2</th>\n",
              "      <th>V3</th>\n",
              "      <th>V4</th>\n",
              "      <th>V5</th>\n",
              "      <th>V6</th>\n",
              "      <th>V7</th>\n",
              "      <th>V8</th>\n",
              "      <th>V9</th>\n",
              "      <th>...</th>\n",
              "      <th>V21</th>\n",
              "      <th>V22</th>\n",
              "      <th>V23</th>\n",
              "      <th>V24</th>\n",
              "      <th>V25</th>\n",
              "      <th>V26</th>\n",
              "      <th>V27</th>\n",
              "      <th>V28</th>\n",
              "      <th>Amount</th>\n",
              "      <th>Class</th>\n",
              "    </tr>\n",
              "  </thead>\n",
              "  <tbody>\n",
              "    <tr>\n",
              "      <th>0</th>\n",
              "      <td>0</td>\n",
              "      <td>-1.359807</td>\n",
              "      <td>-0.072781</td>\n",
              "      <td>2.536347</td>\n",
              "      <td>1.378155</td>\n",
              "      <td>-0.338321</td>\n",
              "      <td>0.462388</td>\n",
              "      <td>0.239599</td>\n",
              "      <td>0.098698</td>\n",
              "      <td>0.363787</td>\n",
              "      <td>...</td>\n",
              "      <td>-0.018307</td>\n",
              "      <td>0.277838</td>\n",
              "      <td>-0.110474</td>\n",
              "      <td>0.066928</td>\n",
              "      <td>0.128539</td>\n",
              "      <td>-0.189115</td>\n",
              "      <td>0.133558</td>\n",
              "      <td>-0.021053</td>\n",
              "      <td>149.620000</td>\n",
              "      <td>0</td>\n",
              "    </tr>\n",
              "    <tr>\n",
              "      <th>1</th>\n",
              "      <td>0</td>\n",
              "      <td>1.191857</td>\n",
              "      <td>0.266151</td>\n",
              "      <td>0.166480</td>\n",
              "      <td>0.448154</td>\n",
              "      <td>0.060018</td>\n",
              "      <td>-0.082361</td>\n",
              "      <td>-0.078803</td>\n",
              "      <td>0.085102</td>\n",
              "      <td>-0.255425</td>\n",
              "      <td>...</td>\n",
              "      <td>-0.225775</td>\n",
              "      <td>-0.638672</td>\n",
              "      <td>0.101288</td>\n",
              "      <td>-0.339846</td>\n",
              "      <td>0.167170</td>\n",
              "      <td>0.125895</td>\n",
              "      <td>-0.008983</td>\n",
              "      <td>0.014724</td>\n",
              "      <td>2.690000</td>\n",
              "      <td>1</td>\n",
              "    </tr>\n",
              "    <tr>\n",
              "      <th>2</th>\n",
              "      <td>1</td>\n",
              "      <td>-1.358354</td>\n",
              "      <td>-1.340163</td>\n",
              "      <td>1.773209</td>\n",
              "      <td>0.379780</td>\n",
              "      <td>-0.503198</td>\n",
              "      <td>1.800499</td>\n",
              "      <td>0.791461</td>\n",
              "      <td>0.247676</td>\n",
              "      <td>-1.514654</td>\n",
              "      <td>...</td>\n",
              "      <td>0.247998</td>\n",
              "      <td>0.771679</td>\n",
              "      <td>0.909412</td>\n",
              "      <td>-0.689281</td>\n",
              "      <td>-0.327642</td>\n",
              "      <td>-0.139097</td>\n",
              "      <td>-0.055353</td>\n",
              "      <td>-0.059752</td>\n",
              "      <td>378.660000</td>\n",
              "      <td>0</td>\n",
              "    </tr>\n",
              "    <tr>\n",
              "      <th>3</th>\n",
              "      <td>1</td>\n",
              "      <td>-0.966272</td>\n",
              "      <td>-0.185226</td>\n",
              "      <td>1.792993</td>\n",
              "      <td>-0.863291</td>\n",
              "      <td>-0.010309</td>\n",
              "      <td>1.247203</td>\n",
              "      <td>0.237609</td>\n",
              "      <td>0.377436</td>\n",
              "      <td>-1.387024</td>\n",
              "      <td>...</td>\n",
              "      <td>-0.108300</td>\n",
              "      <td>0.005274</td>\n",
              "      <td>-0.190321</td>\n",
              "      <td>-1.175575</td>\n",
              "      <td>0.647376</td>\n",
              "      <td>-0.221929</td>\n",
              "      <td>0.062723</td>\n",
              "      <td>0.061458</td>\n",
              "      <td>123.500000</td>\n",
              "      <td>0</td>\n",
              "    </tr>\n",
              "    <tr>\n",
              "      <th>4</th>\n",
              "      <td>2</td>\n",
              "      <td>-1.158233</td>\n",
              "      <td>0.877737</td>\n",
              "      <td>1.548718</td>\n",
              "      <td>0.403034</td>\n",
              "      <td>-0.407193</td>\n",
              "      <td>0.095921</td>\n",
              "      <td>0.592941</td>\n",
              "      <td>-0.270533</td>\n",
              "      <td>0.817739</td>\n",
              "      <td>...</td>\n",
              "      <td>-0.009431</td>\n",
              "      <td>0.798278</td>\n",
              "      <td>-0.137458</td>\n",
              "      <td>0.141267</td>\n",
              "      <td>-0.206010</td>\n",
              "      <td>0.502292</td>\n",
              "      <td>0.219422</td>\n",
              "      <td>0.215153</td>\n",
              "      <td>69.990000</td>\n",
              "      <td>0</td>\n",
              "    </tr>\n",
              "    <tr>\n",
              "      <th>...</th>\n",
              "      <td>...</td>\n",
              "      <td>...</td>\n",
              "      <td>...</td>\n",
              "      <td>...</td>\n",
              "      <td>...</td>\n",
              "      <td>...</td>\n",
              "      <td>...</td>\n",
              "      <td>...</td>\n",
              "      <td>...</td>\n",
              "      <td>...</td>\n",
              "      <td>...</td>\n",
              "      <td>...</td>\n",
              "      <td>...</td>\n",
              "      <td>...</td>\n",
              "      <td>...</td>\n",
              "      <td>...</td>\n",
              "      <td>...</td>\n",
              "      <td>...</td>\n",
              "      <td>...</td>\n",
              "      <td>...</td>\n",
              "      <td>...</td>\n",
              "    </tr>\n",
              "    <tr>\n",
              "      <th>1521</th>\n",
              "      <td>147</td>\n",
              "      <td>0.499019</td>\n",
              "      <td>0.478728</td>\n",
              "      <td>0.398079</td>\n",
              "      <td>0.323202</td>\n",
              "      <td>0.392742</td>\n",
              "      <td>-0.224583</td>\n",
              "      <td>0.220847</td>\n",
              "      <td>0.016196</td>\n",
              "      <td>-0.066068</td>\n",
              "      <td>...</td>\n",
              "      <td>-0.185967</td>\n",
              "      <td>-0.544283</td>\n",
              "      <td>0.142753</td>\n",
              "      <td>-0.750439</td>\n",
              "      <td>-0.810982</td>\n",
              "      <td>0.082361</td>\n",
              "      <td>0.139866</td>\n",
              "      <td>0.158395</td>\n",
              "      <td>1.602306</td>\n",
              "      <td>1</td>\n",
              "    </tr>\n",
              "    <tr>\n",
              "      <th>1522</th>\n",
              "      <td>234</td>\n",
              "      <td>0.332718</td>\n",
              "      <td>-0.455848</td>\n",
              "      <td>0.915682</td>\n",
              "      <td>0.819721</td>\n",
              "      <td>0.431184</td>\n",
              "      <td>-0.598740</td>\n",
              "      <td>-0.535563</td>\n",
              "      <td>0.077942</td>\n",
              "      <td>0.296802</td>\n",
              "      <td>...</td>\n",
              "      <td>-0.086455</td>\n",
              "      <td>-0.258179</td>\n",
              "      <td>0.176170</td>\n",
              "      <td>0.000480</td>\n",
              "      <td>0.092644</td>\n",
              "      <td>0.311781</td>\n",
              "      <td>-0.052041</td>\n",
              "      <td>-0.026316</td>\n",
              "      <td>2.352903</td>\n",
              "      <td>1</td>\n",
              "    </tr>\n",
              "    <tr>\n",
              "      <th>1523</th>\n",
              "      <td>133</td>\n",
              "      <td>0.858362</td>\n",
              "      <td>0.417669</td>\n",
              "      <td>0.352636</td>\n",
              "      <td>0.499054</td>\n",
              "      <td>0.029445</td>\n",
              "      <td>-0.626605</td>\n",
              "      <td>0.157114</td>\n",
              "      <td>-0.087929</td>\n",
              "      <td>-0.017948</td>\n",
              "      <td>...</td>\n",
              "      <td>-0.234278</td>\n",
              "      <td>-0.681384</td>\n",
              "      <td>0.135779</td>\n",
              "      <td>-0.232330</td>\n",
              "      <td>-0.322794</td>\n",
              "      <td>0.088228</td>\n",
              "      <td>0.062273</td>\n",
              "      <td>0.097781</td>\n",
              "      <td>2.119382</td>\n",
              "      <td>1</td>\n",
              "    </tr>\n",
              "    <tr>\n",
              "      <th>1524</th>\n",
              "      <td>150</td>\n",
              "      <td>0.428876</td>\n",
              "      <td>0.490647</td>\n",
              "      <td>0.406949</td>\n",
              "      <td>0.288876</td>\n",
              "      <td>0.463657</td>\n",
              "      <td>-0.146108</td>\n",
              "      <td>0.233288</td>\n",
              "      <td>0.036521</td>\n",
              "      <td>-0.075461</td>\n",
              "      <td>...</td>\n",
              "      <td>-0.176537</td>\n",
              "      <td>-0.517521</td>\n",
              "      <td>0.144115</td>\n",
              "      <td>-0.851573</td>\n",
              "      <td>-0.906276</td>\n",
              "      <td>0.081215</td>\n",
              "      <td>0.155012</td>\n",
              "      <td>0.170226</td>\n",
              "      <td>1.501373</td>\n",
              "      <td>1</td>\n",
              "    </tr>\n",
              "    <tr>\n",
              "      <th>1525</th>\n",
              "      <td>500</td>\n",
              "      <td>-2.525797</td>\n",
              "      <td>-2.828770</td>\n",
              "      <td>1.772859</td>\n",
              "      <td>1.718470</td>\n",
              "      <td>1.906953</td>\n",
              "      <td>-0.241233</td>\n",
              "      <td>-0.883564</td>\n",
              "      <td>0.357205</td>\n",
              "      <td>0.339516</td>\n",
              "      <td>...</td>\n",
              "      <td>0.542932</td>\n",
              "      <td>0.812709</td>\n",
              "      <td>0.840770</td>\n",
              "      <td>-0.573433</td>\n",
              "      <td>0.032029</td>\n",
              "      <td>0.354217</td>\n",
              "      <td>-0.189157</td>\n",
              "      <td>-0.066906</td>\n",
              "      <td>267.142819</td>\n",
              "      <td>1</td>\n",
              "    </tr>\n",
              "  </tbody>\n",
              "</table>\n",
              "<p>1526 rows × 31 columns</p>\n",
              "</div>"
            ],
            "text/plain": [
              "      Time        V1        V2        V3        V4        V5        V6  \\\n",
              "0        0 -1.359807 -0.072781  2.536347  1.378155 -0.338321  0.462388   \n",
              "1        0  1.191857  0.266151  0.166480  0.448154  0.060018 -0.082361   \n",
              "2        1 -1.358354 -1.340163  1.773209  0.379780 -0.503198  1.800499   \n",
              "3        1 -0.966272 -0.185226  1.792993 -0.863291 -0.010309  1.247203   \n",
              "4        2 -1.158233  0.877737  1.548718  0.403034 -0.407193  0.095921   \n",
              "...    ...       ...       ...       ...       ...       ...       ...   \n",
              "1521   147  0.499019  0.478728  0.398079  0.323202  0.392742 -0.224583   \n",
              "1522   234  0.332718 -0.455848  0.915682  0.819721  0.431184 -0.598740   \n",
              "1523   133  0.858362  0.417669  0.352636  0.499054  0.029445 -0.626605   \n",
              "1524   150  0.428876  0.490647  0.406949  0.288876  0.463657 -0.146108   \n",
              "1525   500 -2.525797 -2.828770  1.772859  1.718470  1.906953 -0.241233   \n",
              "\n",
              "            V7        V8        V9  ...       V21       V22       V23  \\\n",
              "0     0.239599  0.098698  0.363787  ... -0.018307  0.277838 -0.110474   \n",
              "1    -0.078803  0.085102 -0.255425  ... -0.225775 -0.638672  0.101288   \n",
              "2     0.791461  0.247676 -1.514654  ...  0.247998  0.771679  0.909412   \n",
              "3     0.237609  0.377436 -1.387024  ... -0.108300  0.005274 -0.190321   \n",
              "4     0.592941 -0.270533  0.817739  ... -0.009431  0.798278 -0.137458   \n",
              "...        ...       ...       ...  ...       ...       ...       ...   \n",
              "1521  0.220847  0.016196 -0.066068  ... -0.185967 -0.544283  0.142753   \n",
              "1522 -0.535563  0.077942  0.296802  ... -0.086455 -0.258179  0.176170   \n",
              "1523  0.157114 -0.087929 -0.017948  ... -0.234278 -0.681384  0.135779   \n",
              "1524  0.233288  0.036521 -0.075461  ... -0.176537 -0.517521  0.144115   \n",
              "1525 -0.883564  0.357205  0.339516  ...  0.542932  0.812709  0.840770   \n",
              "\n",
              "           V24       V25       V26       V27       V28      Amount  Class  \n",
              "0     0.066928  0.128539 -0.189115  0.133558 -0.021053  149.620000      0  \n",
              "1    -0.339846  0.167170  0.125895 -0.008983  0.014724    2.690000      1  \n",
              "2    -0.689281 -0.327642 -0.139097 -0.055353 -0.059752  378.660000      0  \n",
              "3    -1.175575  0.647376 -0.221929  0.062723  0.061458  123.500000      0  \n",
              "4     0.141267 -0.206010  0.502292  0.219422  0.215153   69.990000      0  \n",
              "...        ...       ...       ...       ...       ...         ...    ...  \n",
              "1521 -0.750439 -0.810982  0.082361  0.139866  0.158395    1.602306      1  \n",
              "1522  0.000480  0.092644  0.311781 -0.052041 -0.026316    2.352903      1  \n",
              "1523 -0.232330 -0.322794  0.088228  0.062273  0.097781    2.119382      1  \n",
              "1524 -0.851573 -0.906276  0.081215  0.155012  0.170226    1.501373      1  \n",
              "1525 -0.573433  0.032029  0.354217 -0.189157 -0.066906  267.142819      1  \n",
              "\n",
              "[1526 rows x 31 columns]"
            ]
          },
          "execution_count": 10,
          "metadata": {},
          "output_type": "execute_result"
        }
      ],
      "source": [
        "data_new"
      ]
    },
    {
      "cell_type": "code",
      "execution_count": 11,
      "metadata": {
        "colab": {
          "base_uri": "https://localhost:8080/"
        },
        "id": "frA1P8o5o55E",
        "outputId": "0b06c234-a18b-49bc-e303-57fd64777d47"
      },
      "outputs": [
        {
          "data": {
            "text/plain": [
              "Class\n",
              "0    763\n",
              "1    763\n",
              "Name: count, dtype: int64"
            ]
          },
          "execution_count": 11,
          "metadata": {},
          "output_type": "execute_result"
        }
      ],
      "source": [
        "data_new['Class'].value_counts()"
      ]
    },
    {
      "cell_type": "code",
      "execution_count": 12,
      "metadata": {
        "colab": {
          "base_uri": "https://localhost:8080/",
          "height": 447
        },
        "id": "fEzGn_ViRmXM",
        "outputId": "59490771-3624-4f0d-a6a2-dca43feb8c29"
      },
      "outputs": [
        {
          "data": {
            "image/png": "[encoded data removed]",
            "text/plain": [
              "<Figure size 640x480 with 1 Axes>"
            ]
          },
          "metadata": {},
          "output_type": "display_data"
        }
      ],
      "source": [
        "data_new['Class'].value_counts().plot(kind='bar',color='green',title='After using oversampling technique')\n",
        "plt.show()"
      ]
    },
    {
      "cell_type": "markdown",
      "metadata": {
        "id": "wQ7kbG91q1sv"
      },
      "source": [
        "**SAMPLE** **SIZE**"
      ]
    },
    {
      "cell_type": "code",
      "execution_count": 13,
      "metadata": {
        "colab": {
          "base_uri": "https://localhost:8080/"
        },
        "id": "D3aIvLS6q1J4",
        "outputId": "d6847c13-cbd3-4131-fbf9-5680760251e2"
      },
      "outputs": [
        {
          "data": {
            "text/plain": [
              "384.1599999999999"
            ]
          },
          "execution_count": 13,
          "metadata": {},
          "output_type": "execute_result"
        }
      ],
      "source": [
        "import math\n",
        "population_size = X_newsample.shape[0]\n",
        "n = 1.96**2*0.5*0.5/0.05**2\n",
        "n"
      ]
    },
    {
      "cell_type": "markdown",
      "metadata": {
        "id": "ijFaOcoZp8oq"
      },
      "source": [
        "**CREATING SAMPLES**"
      ]
    },
    {
      "cell_type": "markdown",
      "metadata": {
        "id": "dRn4N8PTrmkW"
      },
      "source": [
        "1.  SIMPLE RANDOM SAMPLING\n",
        "\n",
        "\n"
      ]
    },
    {
      "cell_type": "code",
      "execution_count": 14,
      "metadata": {
        "colab": {
          "base_uri": "https://localhost:8080/",
          "height": 255
        },
        "id": "fkbxXxB5rlIA",
        "outputId": "6ebe379d-cfa5-4cee-f7c2-200251a488c0"
      },
      "outputs": [
        {
          "data": {
            "text/html": [
              "<div>\n",
              "<style scoped>\n",
              "    .dataframe tbody tr th:only-of-type {\n",
              "        vertical-align: middle;\n",
              "    }\n",
              "\n",
              "    .dataframe tbody tr th {\n",
              "        vertical-align: top;\n",
              "    }\n",
              "\n",
              "    .dataframe thead th {\n",
              "        text-align: right;\n",
              "    }\n",
              "</style>\n",
              "<table border=\"1\" class=\"dataframe\">\n",
              "  <thead>\n",
              "    <tr style=\"text-align: right;\">\n",
              "      <th></th>\n",
              "      <th>Time</th>\n",
              "      <th>V1</th>\n",
              "      <th>V2</th>\n",
              "      <th>V3</th>\n",
              "      <th>V4</th>\n",
              "      <th>V5</th>\n",
              "      <th>V6</th>\n",
              "      <th>V7</th>\n",
              "      <th>V8</th>\n",
              "      <th>V9</th>\n",
              "      <th>...</th>\n",
              "      <th>V21</th>\n",
              "      <th>V22</th>\n",
              "      <th>V23</th>\n",
              "      <th>V24</th>\n",
              "      <th>V25</th>\n",
              "      <th>V26</th>\n",
              "      <th>V27</th>\n",
              "      <th>V28</th>\n",
              "      <th>Amount</th>\n",
              "      <th>Class</th>\n",
              "    </tr>\n",
              "  </thead>\n",
              "  <tbody>\n",
              "    <tr>\n",
              "      <th>1439</th>\n",
              "      <td>461</td>\n",
              "      <td>-1.365895</td>\n",
              "      <td>0.155223</td>\n",
              "      <td>1.035856</td>\n",
              "      <td>-0.497955</td>\n",
              "      <td>0.900534</td>\n",
              "      <td>-0.180055</td>\n",
              "      <td>0.274685</td>\n",
              "      <td>0.140398</td>\n",
              "      <td>-0.006669</td>\n",
              "      <td>...</td>\n",
              "      <td>-0.169100</td>\n",
              "      <td>-0.231092</td>\n",
              "      <td>-0.176961</td>\n",
              "      <td>-0.469160</td>\n",
              "      <td>-0.551823</td>\n",
              "      <td>0.206406</td>\n",
              "      <td>-0.226484</td>\n",
              "      <td>-0.257337</td>\n",
              "      <td>0.997943</td>\n",
              "      <td>1</td>\n",
              "    </tr>\n",
              "    <tr>\n",
              "      <th>76</th>\n",
              "      <td>49</td>\n",
              "      <td>-0.549626</td>\n",
              "      <td>0.418949</td>\n",
              "      <td>1.729833</td>\n",
              "      <td>0.203065</td>\n",
              "      <td>-0.187012</td>\n",
              "      <td>0.253878</td>\n",
              "      <td>0.500894</td>\n",
              "      <td>0.251256</td>\n",
              "      <td>-0.227985</td>\n",
              "      <td>...</td>\n",
              "      <td>0.115062</td>\n",
              "      <td>0.418529</td>\n",
              "      <td>-0.065133</td>\n",
              "      <td>0.264981</td>\n",
              "      <td>0.003958</td>\n",
              "      <td>0.395969</td>\n",
              "      <td>0.027182</td>\n",
              "      <td>0.043506</td>\n",
              "      <td>59.990000</td>\n",
              "      <td>0</td>\n",
              "    </tr>\n",
              "    <tr>\n",
              "      <th>1010</th>\n",
              "      <td>58</td>\n",
              "      <td>1.223316</td>\n",
              "      <td>0.308126</td>\n",
              "      <td>0.234334</td>\n",
              "      <td>0.570365</td>\n",
              "      <td>-0.155251</td>\n",
              "      <td>-0.575220</td>\n",
              "      <td>0.003807</td>\n",
              "      <td>-0.058550</td>\n",
              "      <td>-0.110456</td>\n",
              "      <td>...</td>\n",
              "      <td>-0.256616</td>\n",
              "      <td>-0.735463</td>\n",
              "      <td>0.114656</td>\n",
              "      <td>-0.000958</td>\n",
              "      <td>0.191503</td>\n",
              "      <td>0.110333</td>\n",
              "      <td>-0.016153</td>\n",
              "      <td>0.022790</td>\n",
              "      <td>2.690000</td>\n",
              "      <td>1</td>\n",
              "    </tr>\n",
              "    <tr>\n",
              "      <th>660</th>\n",
              "      <td>499</td>\n",
              "      <td>1.255439</td>\n",
              "      <td>0.307729</td>\n",
              "      <td>0.292700</td>\n",
              "      <td>0.699873</td>\n",
              "      <td>-0.428876</td>\n",
              "      <td>-1.088456</td>\n",
              "      <td>0.043840</td>\n",
              "      <td>-0.167739</td>\n",
              "      <td>0.128854</td>\n",
              "      <td>...</td>\n",
              "      <td>-0.294795</td>\n",
              "      <td>-0.882126</td>\n",
              "      <td>0.136846</td>\n",
              "      <td>0.327949</td>\n",
              "      <td>0.194459</td>\n",
              "      <td>0.096516</td>\n",
              "      <td>-0.027271</td>\n",
              "      <td>0.029491</td>\n",
              "      <td>1.980000</td>\n",
              "      <td>0</td>\n",
              "    </tr>\n",
              "    <tr>\n",
              "      <th>1132</th>\n",
              "      <td>490</td>\n",
              "      <td>-2.698692</td>\n",
              "      <td>-2.938482</td>\n",
              "      <td>1.544312</td>\n",
              "      <td>1.908873</td>\n",
              "      <td>1.724239</td>\n",
              "      <td>-0.516262</td>\n",
              "      <td>-0.479785</td>\n",
              "      <td>0.215281</td>\n",
              "      <td>0.135656</td>\n",
              "      <td>...</td>\n",
              "      <td>0.582592</td>\n",
              "      <td>0.686736</td>\n",
              "      <td>1.019493</td>\n",
              "      <td>-0.480053</td>\n",
              "      <td>0.114769</td>\n",
              "      <td>0.187388</td>\n",
              "      <td>-0.210401</td>\n",
              "      <td>-0.032620</td>\n",
              "      <td>354.587231</td>\n",
              "      <td>1</td>\n",
              "    </tr>\n",
              "  </tbody>\n",
              "</table>\n",
              "<p>5 rows × 31 columns</p>\n",
              "</div>"
            ],
            "text/plain": [
              "      Time        V1        V2        V3        V4        V5        V6  \\\n",
              "1439   461 -1.365895  0.155223  1.035856 -0.497955  0.900534 -0.180055   \n",
              "76      49 -0.549626  0.418949  1.729833  0.203065 -0.187012  0.253878   \n",
              "1010    58  1.223316  0.308126  0.234334  0.570365 -0.155251 -0.575220   \n",
              "660    499  1.255439  0.307729  0.292700  0.699873 -0.428876 -1.088456   \n",
              "1132   490 -2.698692 -2.938482  1.544312  1.908873  1.724239 -0.516262   \n",
              "\n",
              "            V7        V8        V9  ...       V21       V22       V23  \\\n",
              "1439  0.274685  0.140398 -0.006669  ... -0.169100 -0.231092 -0.176961   \n",
              "76    0.500894  0.251256 -0.227985  ...  0.115062  0.418529 -0.065133   \n",
              "1010  0.003807 -0.058550 -0.110456  ... -0.256616 -0.735463  0.114656   \n",
              "660   0.043840 -0.167739  0.128854  ... -0.294795 -0.882126  0.136846   \n",
              "1132 -0.479785  0.215281  0.135656  ...  0.582592  0.686736  1.019493   \n",
              "\n",
              "           V24       V25       V26       V27       V28      Amount  Class  \n",
              "1439 -0.469160 -0.551823  0.206406 -0.226484 -0.257337    0.997943      1  \n",
              "76    0.264981  0.003958  0.395969  0.027182  0.043506   59.990000      0  \n",
              "1010 -0.000958  0.191503  0.110333 -0.016153  0.022790    2.690000      1  \n",
              "660   0.327949  0.194459  0.096516 -0.027271  0.029491    1.980000      0  \n",
              "1132 -0.480053  0.114769  0.187388 -0.210401 -0.032620  354.587231      1  \n",
              "\n",
              "[5 rows x 31 columns]"
            ]
          },
          "execution_count": 14,
          "metadata": {},
          "output_type": "execute_result"
        }
      ],
      "source": [
        "data_random_sample = data_new.sample(n=math.ceil(n), random_state=42 , replace=False)\n",
        "data_random_sample.head()"
      ]
    },
    {
      "cell_type": "markdown",
      "metadata": {
        "id": "x3mrJ5LKs9ni"
      },
      "source": [
        "2. SYSTEMATIC RANDOM SAMPLING\n",
        "\n"
      ]
    },
    {
      "cell_type": "code",
      "execution_count": 15,
      "metadata": {
        "colab": {
          "base_uri": "https://localhost:8080/",
          "height": 255
        },
        "id": "KyGJLeqItDBS",
        "outputId": "731cbcaa-79f2-4604-fd03-d6c9ab318951"
      },
      "outputs": [
        {
          "data": {
            "text/html": [
              "<div>\n",
              "<style scoped>\n",
              "    .dataframe tbody tr th:only-of-type {\n",
              "        vertical-align: middle;\n",
              "    }\n",
              "\n",
              "    .dataframe tbody tr th {\n",
              "        vertical-align: top;\n",
              "    }\n",
              "\n",
              "    .dataframe thead th {\n",
              "        text-align: right;\n",
              "    }\n",
              "</style>\n",
              "<table border=\"1\" class=\"dataframe\">\n",
              "  <thead>\n",
              "    <tr style=\"text-align: right;\">\n",
              "      <th></th>\n",
              "      <th>Time</th>\n",
              "      <th>V1</th>\n",
              "      <th>V2</th>\n",
              "      <th>V3</th>\n",
              "      <th>V4</th>\n",
              "      <th>V5</th>\n",
              "      <th>V6</th>\n",
              "      <th>V7</th>\n",
              "      <th>V8</th>\n",
              "      <th>V9</th>\n",
              "      <th>...</th>\n",
              "      <th>V21</th>\n",
              "      <th>V22</th>\n",
              "      <th>V23</th>\n",
              "      <th>V24</th>\n",
              "      <th>V25</th>\n",
              "      <th>V26</th>\n",
              "      <th>V27</th>\n",
              "      <th>V28</th>\n",
              "      <th>Amount</th>\n",
              "      <th>Class</th>\n",
              "    </tr>\n",
              "  </thead>\n",
              "  <tbody>\n",
              "    <tr>\n",
              "      <th>1</th>\n",
              "      <td>0</td>\n",
              "      <td>1.191857</td>\n",
              "      <td>0.266151</td>\n",
              "      <td>0.166480</td>\n",
              "      <td>0.448154</td>\n",
              "      <td>0.060018</td>\n",
              "      <td>-0.082361</td>\n",
              "      <td>-0.078803</td>\n",
              "      <td>0.085102</td>\n",
              "      <td>-0.255425</td>\n",
              "      <td>...</td>\n",
              "      <td>-0.225775</td>\n",
              "      <td>-0.638672</td>\n",
              "      <td>0.101288</td>\n",
              "      <td>-0.339846</td>\n",
              "      <td>0.167170</td>\n",
              "      <td>0.125895</td>\n",
              "      <td>-0.008983</td>\n",
              "      <td>0.014724</td>\n",
              "      <td>2.69</td>\n",
              "      <td>1</td>\n",
              "    </tr>\n",
              "    <tr>\n",
              "      <th>4</th>\n",
              "      <td>2</td>\n",
              "      <td>-1.158233</td>\n",
              "      <td>0.877737</td>\n",
              "      <td>1.548718</td>\n",
              "      <td>0.403034</td>\n",
              "      <td>-0.407193</td>\n",
              "      <td>0.095921</td>\n",
              "      <td>0.592941</td>\n",
              "      <td>-0.270533</td>\n",
              "      <td>0.817739</td>\n",
              "      <td>...</td>\n",
              "      <td>-0.009431</td>\n",
              "      <td>0.798278</td>\n",
              "      <td>-0.137458</td>\n",
              "      <td>0.141267</td>\n",
              "      <td>-0.206010</td>\n",
              "      <td>0.502292</td>\n",
              "      <td>0.219422</td>\n",
              "      <td>0.215153</td>\n",
              "      <td>69.99</td>\n",
              "      <td>0</td>\n",
              "    </tr>\n",
              "    <tr>\n",
              "      <th>7</th>\n",
              "      <td>7</td>\n",
              "      <td>-0.644269</td>\n",
              "      <td>1.417964</td>\n",
              "      <td>1.074380</td>\n",
              "      <td>-0.492199</td>\n",
              "      <td>0.948934</td>\n",
              "      <td>0.428118</td>\n",
              "      <td>1.120631</td>\n",
              "      <td>-3.807864</td>\n",
              "      <td>0.615375</td>\n",
              "      <td>...</td>\n",
              "      <td>1.943465</td>\n",
              "      <td>-1.015455</td>\n",
              "      <td>0.057504</td>\n",
              "      <td>-0.649709</td>\n",
              "      <td>-0.415267</td>\n",
              "      <td>-0.051634</td>\n",
              "      <td>-1.206921</td>\n",
              "      <td>-1.085339</td>\n",
              "      <td>40.80</td>\n",
              "      <td>0</td>\n",
              "    </tr>\n",
              "    <tr>\n",
              "      <th>10</th>\n",
              "      <td>10</td>\n",
              "      <td>1.449044</td>\n",
              "      <td>-1.176339</td>\n",
              "      <td>0.913860</td>\n",
              "      <td>-1.375667</td>\n",
              "      <td>-1.971383</td>\n",
              "      <td>-0.629152</td>\n",
              "      <td>-1.423236</td>\n",
              "      <td>0.048456</td>\n",
              "      <td>-1.720408</td>\n",
              "      <td>...</td>\n",
              "      <td>-0.009302</td>\n",
              "      <td>0.313894</td>\n",
              "      <td>0.027740</td>\n",
              "      <td>0.500512</td>\n",
              "      <td>0.251367</td>\n",
              "      <td>-0.129478</td>\n",
              "      <td>0.042850</td>\n",
              "      <td>0.016253</td>\n",
              "      <td>7.80</td>\n",
              "      <td>0</td>\n",
              "    </tr>\n",
              "    <tr>\n",
              "      <th>13</th>\n",
              "      <td>11</td>\n",
              "      <td>1.069374</td>\n",
              "      <td>0.287722</td>\n",
              "      <td>0.828613</td>\n",
              "      <td>2.712520</td>\n",
              "      <td>-0.178398</td>\n",
              "      <td>0.337544</td>\n",
              "      <td>-0.096717</td>\n",
              "      <td>0.115982</td>\n",
              "      <td>-0.221083</td>\n",
              "      <td>...</td>\n",
              "      <td>-0.036876</td>\n",
              "      <td>0.074412</td>\n",
              "      <td>-0.071407</td>\n",
              "      <td>0.104744</td>\n",
              "      <td>0.548265</td>\n",
              "      <td>0.104094</td>\n",
              "      <td>0.021491</td>\n",
              "      <td>0.021293</td>\n",
              "      <td>27.50</td>\n",
              "      <td>0</td>\n",
              "    </tr>\n",
              "  </tbody>\n",
              "</table>\n",
              "<p>5 rows × 31 columns</p>\n",
              "</div>"
            ],
            "text/plain": [
              "    Time        V1        V2        V3        V4        V5        V6  \\\n",
              "1      0  1.191857  0.266151  0.166480  0.448154  0.060018 -0.082361   \n",
              "4      2 -1.158233  0.877737  1.548718  0.403034 -0.407193  0.095921   \n",
              "7      7 -0.644269  1.417964  1.074380 -0.492199  0.948934  0.428118   \n",
              "10    10  1.449044 -1.176339  0.913860 -1.375667 -1.971383 -0.629152   \n",
              "13    11  1.069374  0.287722  0.828613  2.712520 -0.178398  0.337544   \n",
              "\n",
              "          V7        V8        V9  ...       V21       V22       V23       V24  \\\n",
              "1  -0.078803  0.085102 -0.255425  ... -0.225775 -0.638672  0.101288 -0.339846   \n",
              "4   0.592941 -0.270533  0.817739  ... -0.009431  0.798278 -0.137458  0.141267   \n",
              "7   1.120631 -3.807864  0.615375  ...  1.943465 -1.015455  0.057504 -0.649709   \n",
              "10 -1.423236  0.048456 -1.720408  ... -0.009302  0.313894  0.027740  0.500512   \n",
              "13 -0.096717  0.115982 -0.221083  ... -0.036876  0.074412 -0.071407  0.104744   \n",
              "\n",
              "         V25       V26       V27       V28  Amount  Class  \n",
              "1   0.167170  0.125895 -0.008983  0.014724    2.69      1  \n",
              "4  -0.206010  0.502292  0.219422  0.215153   69.99      0  \n",
              "7  -0.415267 -0.051634 -1.206921 -1.085339   40.80      0  \n",
              "10  0.251367 -0.129478  0.042850  0.016253    7.80      0  \n",
              "13  0.548265  0.104094  0.021491  0.021293   27.50      0  \n",
              "\n",
              "[5 rows x 31 columns]"
            ]
          },
          "execution_count": 15,
          "metadata": {},
          "output_type": "execute_result"
        }
      ],
      "source": [
        "k = int((population_size)/math.ceil(n))\n",
        "start = np.random.randint(0, k)\n",
        "systematic_sample = data_new.iloc[start::k]\n",
        "systematic_sample.head()"
      ]
    },
    {
      "cell_type": "markdown",
      "metadata": {
        "id": "0tOD_eDGugS0"
      },
      "source": [
        "3. CLUSTER SAMPLING"
      ]
    },
    {
      "cell_type": "code",
      "execution_count": 16,
      "metadata": {
        "colab": {
          "base_uri": "https://localhost:8080/",
          "height": 255
        },
        "id": "CTo01hnzukex",
        "outputId": "4f8de5fc-aed5-4764-861c-e73ff413a47a"
      },
      "outputs": [
        {
          "data": {
            "text/html": [
              "<div>\n",
              "<style scoped>\n",
              "    .dataframe tbody tr th:only-of-type {\n",
              "        vertical-align: middle;\n",
              "    }\n",
              "\n",
              "    .dataframe tbody tr th {\n",
              "        vertical-align: top;\n",
              "    }\n",
              "\n",
              "    .dataframe thead th {\n",
              "        text-align: right;\n",
              "    }\n",
              "</style>\n",
              "<table border=\"1\" class=\"dataframe\">\n",
              "  <thead>\n",
              "    <tr style=\"text-align: right;\">\n",
              "      <th></th>\n",
              "      <th>Time</th>\n",
              "      <th>V1</th>\n",
              "      <th>V2</th>\n",
              "      <th>V3</th>\n",
              "      <th>V4</th>\n",
              "      <th>V5</th>\n",
              "      <th>V6</th>\n",
              "      <th>V7</th>\n",
              "      <th>V8</th>\n",
              "      <th>V9</th>\n",
              "      <th>...</th>\n",
              "      <th>V22</th>\n",
              "      <th>V23</th>\n",
              "      <th>V24</th>\n",
              "      <th>V25</th>\n",
              "      <th>V26</th>\n",
              "      <th>V27</th>\n",
              "      <th>V28</th>\n",
              "      <th>Amount</th>\n",
              "      <th>Class</th>\n",
              "      <th>cluster</th>\n",
              "    </tr>\n",
              "  </thead>\n",
              "  <tbody>\n",
              "    <tr>\n",
              "      <th>925</th>\n",
              "      <td>177</td>\n",
              "      <td>0.902051</td>\n",
              "      <td>0.358031</td>\n",
              "      <td>0.535032</td>\n",
              "      <td>0.610606</td>\n",
              "      <td>-0.155217</td>\n",
              "      <td>-1.042898</td>\n",
              "      <td>0.214839</td>\n",
              "      <td>-0.195360</td>\n",
              "      <td>0.006500</td>\n",
              "      <td>...</td>\n",
              "      <td>-0.652604</td>\n",
              "      <td>0.065682</td>\n",
              "      <td>0.346855</td>\n",
              "      <td>0.244259</td>\n",
              "      <td>0.006034</td>\n",
              "      <td>-0.036462</td>\n",
              "      <td>0.005570</td>\n",
              "      <td>2.416827</td>\n",
              "      <td>1</td>\n",
              "      <td>1.0</td>\n",
              "    </tr>\n",
              "    <tr>\n",
              "      <th>235</th>\n",
              "      <td>156</td>\n",
              "      <td>-3.494861</td>\n",
              "      <td>-2.894450</td>\n",
              "      <td>1.637989</td>\n",
              "      <td>-0.274976</td>\n",
              "      <td>-0.389203</td>\n",
              "      <td>-0.703275</td>\n",
              "      <td>0.444194</td>\n",
              "      <td>0.154266</td>\n",
              "      <td>0.695818</td>\n",
              "      <td>...</td>\n",
              "      <td>-0.063521</td>\n",
              "      <td>0.676254</td>\n",
              "      <td>0.596377</td>\n",
              "      <td>0.114229</td>\n",
              "      <td>0.834915</td>\n",
              "      <td>0.309675</td>\n",
              "      <td>0.632261</td>\n",
              "      <td>500.000000</td>\n",
              "      <td>0</td>\n",
              "      <td>1.0</td>\n",
              "    </tr>\n",
              "    <tr>\n",
              "      <th>1185</th>\n",
              "      <td>246</td>\n",
              "      <td>-0.739955</td>\n",
              "      <td>1.028713</td>\n",
              "      <td>-0.251094</td>\n",
              "      <td>1.438917</td>\n",
              "      <td>0.364301</td>\n",
              "      <td>-0.320670</td>\n",
              "      <td>-0.669880</td>\n",
              "      <td>0.566442</td>\n",
              "      <td>-1.025602</td>\n",
              "      <td>...</td>\n",
              "      <td>-0.263657</td>\n",
              "      <td>-0.059100</td>\n",
              "      <td>-0.789723</td>\n",
              "      <td>-0.900270</td>\n",
              "      <td>0.110337</td>\n",
              "      <td>0.241772</td>\n",
              "      <td>0.102838</td>\n",
              "      <td>0.652443</td>\n",
              "      <td>1</td>\n",
              "      <td>1.0</td>\n",
              "    </tr>\n",
              "    <tr>\n",
              "      <th>559</th>\n",
              "      <td>417</td>\n",
              "      <td>-2.680348</td>\n",
              "      <td>1.872052</td>\n",
              "      <td>1.144712</td>\n",
              "      <td>-0.693664</td>\n",
              "      <td>0.155172</td>\n",
              "      <td>0.601325</td>\n",
              "      <td>0.904201</td>\n",
              "      <td>-0.520079</td>\n",
              "      <td>3.013065</td>\n",
              "      <td>...</td>\n",
              "      <td>0.485421</td>\n",
              "      <td>-0.365437</td>\n",
              "      <td>-0.744118</td>\n",
              "      <td>0.328655</td>\n",
              "      <td>0.457695</td>\n",
              "      <td>0.566152</td>\n",
              "      <td>0.168241</td>\n",
              "      <td>29.990000</td>\n",
              "      <td>0</td>\n",
              "      <td>1.0</td>\n",
              "    </tr>\n",
              "    <tr>\n",
              "      <th>382</th>\n",
              "      <td>280</td>\n",
              "      <td>0.878794</td>\n",
              "      <td>-0.266909</td>\n",
              "      <td>0.409706</td>\n",
              "      <td>1.509808</td>\n",
              "      <td>-0.487798</td>\n",
              "      <td>0.376829</td>\n",
              "      <td>-0.389288</td>\n",
              "      <td>0.331361</td>\n",
              "      <td>0.702728</td>\n",
              "      <td>...</td>\n",
              "      <td>0.110527</td>\n",
              "      <td>-0.191237</td>\n",
              "      <td>-0.059199</td>\n",
              "      <td>0.504350</td>\n",
              "      <td>-0.271526</td>\n",
              "      <td>0.059100</td>\n",
              "      <td>0.053501</td>\n",
              "      <td>109.150000</td>\n",
              "      <td>0</td>\n",
              "      <td>1.0</td>\n",
              "    </tr>\n",
              "  </tbody>\n",
              "</table>\n",
              "<p>5 rows × 32 columns</p>\n",
              "</div>"
            ],
            "text/plain": [
              "      Time        V1        V2        V3        V4        V5        V6  \\\n",
              "925    177  0.902051  0.358031  0.535032  0.610606 -0.155217 -1.042898   \n",
              "235    156 -3.494861 -2.894450  1.637989 -0.274976 -0.389203 -0.703275   \n",
              "1185   246 -0.739955  1.028713 -0.251094  1.438917  0.364301 -0.320670   \n",
              "559    417 -2.680348  1.872052  1.144712 -0.693664  0.155172  0.601325   \n",
              "382    280  0.878794 -0.266909  0.409706  1.509808 -0.487798  0.376829   \n",
              "\n",
              "            V7        V8        V9  ...       V22       V23       V24  \\\n",
              "925   0.214839 -0.195360  0.006500  ... -0.652604  0.065682  0.346855   \n",
              "235   0.444194  0.154266  0.695818  ... -0.063521  0.676254  0.596377   \n",
              "1185 -0.669880  0.566442 -1.025602  ... -0.263657 -0.059100 -0.789723   \n",
              "559   0.904201 -0.520079  3.013065  ...  0.485421 -0.365437 -0.744118   \n",
              "382  -0.389288  0.331361  0.702728  ...  0.110527 -0.191237 -0.059199   \n",
              "\n",
              "           V25       V26       V27       V28      Amount  Class  cluster  \n",
              "925   0.244259  0.006034 -0.036462  0.005570    2.416827      1      1.0  \n",
              "235   0.114229  0.834915  0.309675  0.632261  500.000000      0      1.0  \n",
              "1185 -0.900270  0.110337  0.241772  0.102838    0.652443      1      1.0  \n",
              "559   0.328655  0.457695  0.566152  0.168241   29.990000      0      1.0  \n",
              "382   0.504350 -0.271526  0.059100  0.053501  109.150000      0      1.0  \n",
              "\n",
              "[5 rows x 32 columns]"
            ]
          },
          "execution_count": 16,
          "metadata": {},
          "output_type": "execute_result"
        }
      ],
      "source": [
        "def get_clustered_Sample(data, n_per_cluster, num_select_clusters):\n",
        "    N = len(data)\n",
        "    K = int(N/n_per_cluster)\n",
        "    df = None\n",
        "    for k in range(K):\n",
        "        sample_k = data.sample(n_per_cluster)\n",
        "        sample_k[\"cluster\"] = np.repeat(k,len(sample_k))\n",
        "        data = data.drop(index = sample_k.index)\n",
        "        data = pd.concat([data,sample_k],axis = 0)\n",
        "\n",
        "    random_chosen_clusters = np.random.randint(0,K,size = num_select_clusters)\n",
        "    samples = data[data.cluster.isin(random_chosen_clusters)]\n",
        "    return(samples)\n",
        "\n",
        "data_cluster_sample = get_clustered_Sample(data = data_new, n_per_cluster = int(n), num_select_clusters = 1)\n",
        "data_cluster_sample.head()"
      ]
    },
    {
      "cell_type": "markdown",
      "metadata": {
        "id": "zFOSa_hMw989"
      },
      "source": [
        "4. BOOTSTRAP SAMPLING"
      ]
    },
    {
      "cell_type": "code",
      "execution_count": 17,
      "metadata": {
        "colab": {
          "base_uri": "https://localhost:8080/",
          "height": 255
        },
        "id": "SocLPoX7wedl",
        "outputId": "38415f8d-4c77-4e43-e5fb-84d1817e8b65"
      },
      "outputs": [
        {
          "data": {
            "text/html": [
              "<div>\n",
              "<style scoped>\n",
              "    .dataframe tbody tr th:only-of-type {\n",
              "        vertical-align: middle;\n",
              "    }\n",
              "\n",
              "    .dataframe tbody tr th {\n",
              "        vertical-align: top;\n",
              "    }\n",
              "\n",
              "    .dataframe thead th {\n",
              "        text-align: right;\n",
              "    }\n",
              "</style>\n",
              "<table border=\"1\" class=\"dataframe\">\n",
              "  <thead>\n",
              "    <tr style=\"text-align: right;\">\n",
              "      <th></th>\n",
              "      <th>Time</th>\n",
              "      <th>V1</th>\n",
              "      <th>V2</th>\n",
              "      <th>V3</th>\n",
              "      <th>V4</th>\n",
              "      <th>V5</th>\n",
              "      <th>V6</th>\n",
              "      <th>V7</th>\n",
              "      <th>V8</th>\n",
              "      <th>V9</th>\n",
              "      <th>...</th>\n",
              "      <th>V21</th>\n",
              "      <th>V22</th>\n",
              "      <th>V23</th>\n",
              "      <th>V24</th>\n",
              "      <th>V25</th>\n",
              "      <th>V26</th>\n",
              "      <th>V27</th>\n",
              "      <th>V28</th>\n",
              "      <th>Amount</th>\n",
              "      <th>Class</th>\n",
              "    </tr>\n",
              "  </thead>\n",
              "  <tbody>\n",
              "    <tr>\n",
              "      <th>1126</th>\n",
              "      <td>561</td>\n",
              "      <td>0.330876</td>\n",
              "      <td>-0.448872</td>\n",
              "      <td>0.921415</td>\n",
              "      <td>0.818478</td>\n",
              "      <td>0.444322</td>\n",
              "      <td>-0.594786</td>\n",
              "      <td>-0.532801</td>\n",
              "      <td>0.073772</td>\n",
              "      <td>0.283084</td>\n",
              "      <td>...</td>\n",
              "      <td>-0.085088</td>\n",
              "      <td>-0.247177</td>\n",
              "      <td>0.176070</td>\n",
              "      <td>0.001713</td>\n",
              "      <td>0.095833</td>\n",
              "      <td>0.312464</td>\n",
              "      <td>-0.051327</td>\n",
              "      <td>-0.026518</td>\n",
              "      <td>1.349736</td>\n",
              "      <td>1</td>\n",
              "    </tr>\n",
              "    <tr>\n",
              "      <th>1459</th>\n",
              "      <td>417</td>\n",
              "      <td>-2.077274</td>\n",
              "      <td>1.847528</td>\n",
              "      <td>-1.483700</td>\n",
              "      <td>3.780241</td>\n",
              "      <td>-0.511368</td>\n",
              "      <td>-1.402914</td>\n",
              "      <td>-2.364187</td>\n",
              "      <td>1.286226</td>\n",
              "      <td>-2.586827</td>\n",
              "      <td>...</td>\n",
              "      <td>0.464312</td>\n",
              "      <td>-0.086753</td>\n",
              "      <td>-0.426192</td>\n",
              "      <td>0.321707</td>\n",
              "      <td>0.056142</td>\n",
              "      <td>0.172348</td>\n",
              "      <td>0.242498</td>\n",
              "      <td>-0.131810</td>\n",
              "      <td>0.084900</td>\n",
              "      <td>1</td>\n",
              "    </tr>\n",
              "    <tr>\n",
              "      <th>860</th>\n",
              "      <td>143</td>\n",
              "      <td>0.607487</td>\n",
              "      <td>0.460298</td>\n",
              "      <td>0.384362</td>\n",
              "      <td>0.376283</td>\n",
              "      <td>0.283081</td>\n",
              "      <td>-0.345933</td>\n",
              "      <td>0.201609</td>\n",
              "      <td>-0.015234</td>\n",
              "      <td>-0.051543</td>\n",
              "      <td>...</td>\n",
              "      <td>-0.200550</td>\n",
              "      <td>-0.585667</td>\n",
              "      <td>0.140648</td>\n",
              "      <td>-0.594048</td>\n",
              "      <td>-0.663623</td>\n",
              "      <td>0.084132</td>\n",
              "      <td>0.116445</td>\n",
              "      <td>0.140099</td>\n",
              "      <td>1.758385</td>\n",
              "      <td>1</td>\n",
              "    </tr>\n",
              "    <tr>\n",
              "      <th>1294</th>\n",
              "      <td>46</td>\n",
              "      <td>0.912225</td>\n",
              "      <td>0.024252</td>\n",
              "      <td>0.368002</td>\n",
              "      <td>0.508759</td>\n",
              "      <td>0.270414</td>\n",
              "      <td>-0.023094</td>\n",
              "      <td>-0.256737</td>\n",
              "      <td>0.146701</td>\n",
              "      <td>-0.149067</td>\n",
              "      <td>...</td>\n",
              "      <td>-0.168995</td>\n",
              "      <td>-0.478021</td>\n",
              "      <td>0.118504</td>\n",
              "      <td>-0.385154</td>\n",
              "      <td>0.133317</td>\n",
              "      <td>0.190286</td>\n",
              "      <td>-0.019112</td>\n",
              "      <td>-0.001549</td>\n",
              "      <td>2.585765</td>\n",
              "      <td>1</td>\n",
              "    </tr>\n",
              "    <tr>\n",
              "      <th>1130</th>\n",
              "      <td>450</td>\n",
              "      <td>-2.804648</td>\n",
              "      <td>-1.488293</td>\n",
              "      <td>0.207026</td>\n",
              "      <td>2.846995</td>\n",
              "      <td>0.745029</td>\n",
              "      <td>-1.182984</td>\n",
              "      <td>-0.609647</td>\n",
              "      <td>0.408954</td>\n",
              "      <td>-1.087326</td>\n",
              "      <td>...</td>\n",
              "      <td>0.614505</td>\n",
              "      <td>0.281774</td>\n",
              "      <td>0.774523</td>\n",
              "      <td>-0.093232</td>\n",
              "      <td>0.202941</td>\n",
              "      <td>-0.039784</td>\n",
              "      <td>-0.084896</td>\n",
              "      <td>-0.022721</td>\n",
              "      <td>356.195761</td>\n",
              "      <td>1</td>\n",
              "    </tr>\n",
              "  </tbody>\n",
              "</table>\n",
              "<p>5 rows × 31 columns</p>\n",
              "</div>"
            ],
            "text/plain": [
              "      Time        V1        V2        V3        V4        V5        V6  \\\n",
              "1126   561  0.330876 -0.448872  0.921415  0.818478  0.444322 -0.594786   \n",
              "1459   417 -2.077274  1.847528 -1.483700  3.780241 -0.511368 -1.402914   \n",
              "860    143  0.607487  0.460298  0.384362  0.376283  0.283081 -0.345933   \n",
              "1294    46  0.912225  0.024252  0.368002  0.508759  0.270414 -0.023094   \n",
              "1130   450 -2.804648 -1.488293  0.207026  2.846995  0.745029 -1.182984   \n",
              "\n",
              "            V7        V8        V9  ...       V21       V22       V23  \\\n",
              "1126 -0.532801  0.073772  0.283084  ... -0.085088 -0.247177  0.176070   \n",
              "1459 -2.364187  1.286226 -2.586827  ...  0.464312 -0.086753 -0.426192   \n",
              "860   0.201609 -0.015234 -0.051543  ... -0.200550 -0.585667  0.140648   \n",
              "1294 -0.256737  0.146701 -0.149067  ... -0.168995 -0.478021  0.118504   \n",
              "1130 -0.609647  0.408954 -1.087326  ...  0.614505  0.281774  0.774523   \n",
              "\n",
              "           V24       V25       V26       V27       V28      Amount  Class  \n",
              "1126  0.001713  0.095833  0.312464 -0.051327 -0.026518    1.349736      1  \n",
              "1459  0.321707  0.056142  0.172348  0.242498 -0.131810    0.084900      1  \n",
              "860  -0.594048 -0.663623  0.084132  0.116445  0.140099    1.758385      1  \n",
              "1294 -0.385154  0.133317  0.190286 -0.019112 -0.001549    2.585765      1  \n",
              "1130 -0.093232  0.202941 -0.039784 -0.084896 -0.022721  356.195761      1  \n",
              "\n",
              "[5 rows x 31 columns]"
            ]
          },
          "execution_count": 17,
          "metadata": {},
          "output_type": "execute_result"
        }
      ],
      "source": [
        "data_bootstrap_sample = data_new.sample(n = math.ceil(n), replace = True, random_state = 42)\n",
        "data_bootstrap_sample.head()"
      ]
    },
    {
      "cell_type": "markdown",
      "metadata": {
        "id": "opTCSl6RyWLB"
      },
      "source": [
        "**MODEL EVALUATION**"
      ]
    },
    {
      "cell_type": "markdown",
      "metadata": {
        "id": "V3kyvN1fybq2"
      },
      "source": [
        "**1. LOGISTIC REGRESSION**"
      ]
    },
    {
      "cell_type": "markdown",
      "metadata": {
        "id": "I9rNQQz0ymd_"
      },
      "source": [
        "1. Simple Random Sampling"
      ]
    },
    {
      "cell_type": "code",
      "execution_count": 18,
      "metadata": {
        "colab": {
          "base_uri": "https://localhost:8080/"
        },
        "id": "gjHmydZkygSh",
        "outputId": "60902dc6-5536-4a63-ab1d-f8a65feb0e00"
      },
      "outputs": [
        {
          "name": "stdout",
          "output_type": "stream",
          "text": [
            "Accuracy for simple random sampling using LR: 0.8793103448275862\n"
          ]
        }
      ],
      "source": [
        "from sklearn.preprocessing import StandardScaler\n",
        "from sklearn.model_selection import train_test_split\n",
        "from sklearn.metrics import accuracy_score, classification_report\n",
        "scaler=StandardScaler()\n",
        "X_random_sample = data_random_sample.drop('Class', axis = 1)\n",
        "y_random_sample = data_random_sample['Class']\n",
        "X_random_scaled = scaler.fit_transform(X_random_sample)\n",
        "X_train_random, X_test_random, y_train_random, y_test_random = train_test_split(X_random_scaled, y_random_sample, test_size=0.3, random_state=42)\n",
        "from sklearn.linear_model import LogisticRegression\n",
        "model = LogisticRegression()\n",
        "model.fit(X_train_random, y_train_random)\n",
        "y_pred = model.predict(X_test_random)\n",
        "accuracy = accuracy_score(y_test_random, y_pred)\n",
        "print(\"Accuracy for simple random sampling using LR:\", accuracy)"
      ]
    },
    {
      "cell_type": "markdown",
      "metadata": {
        "id": "J1Ihty4W0BRZ"
      },
      "source": [
        "2. Systematic Random Sampling"
      ]
    },
    {
      "cell_type": "code",
      "execution_count": 19,
      "metadata": {
        "colab": {
          "base_uri": "https://localhost:8080/"
        },
        "id": "W3hHgE0A0T86",
        "outputId": "4212d58b-8900-42f2-a1a6-dc560fdf7eb2"
      },
      "outputs": [
        {
          "name": "stdout",
          "output_type": "stream",
          "text": [
            "Accuracy for simplifed random sampling using LR: 0.9215686274509803\n"
          ]
        }
      ],
      "source": [
        "X_systematic_sample = systematic_sample.drop('Class', axis = 1)\n",
        "y_systematic_sample = systematic_sample['Class']\n",
        "X_systematic_scaled = scaler.fit_transform(X_systematic_sample)\n",
        "X_train_systematic, X_test_systematic, y_train_systematic, y_test_systematic = train_test_split(X_systematic_scaled, y_systematic_sample, test_size=0.3, random_state=42)\n",
        "\n",
        "model.fit(X_train_systematic, y_train_systematic)\n",
        "y_pred = model.predict(X_test_systematic)\n",
        "accuracy = accuracy_score(y_test_systematic, y_pred)\n",
        "print(\"Accuracy for simplifed random sampling using LR:\", accuracy)"
      ]
    },
    {
      "cell_type": "markdown",
      "metadata": {
        "id": "Xe1bQTnF0s5q"
      },
      "source": [
        "3. Cluster Sampling"
      ]
    },
    {
      "cell_type": "code",
      "execution_count": 20,
      "metadata": {
        "colab": {
          "base_uri": "https://localhost:8080/"
        },
        "id": "1wTUaAso0vuH",
        "outputId": "eaf37879-b0d6-4030-f0e2-1ab52fd892ce"
      },
      "outputs": [
        {
          "name": "stdout",
          "output_type": "stream",
          "text": [
            "Accuracy for cluster sampling using LR : 0.8977272727272727\n"
          ]
        }
      ],
      "source": [
        "X_cluster_sample = data_cluster_sample.drop('Class', axis = 1)\n",
        "y_cluster_sample = data_cluster_sample['Class']\n",
        "X_cluster_scaled = scaler.fit_transform(X_cluster_sample)\n",
        "X_train_cluster, X_test_cluster, y_train_cluster, y_test_cluster = train_test_split(X_cluster_scaled, y_cluster_sample, test_size=0.3, random_state=42)\n",
        "\n",
        "model.fit(X_train_cluster, y_train_cluster)\n",
        "y_pred = model.predict(X_test_cluster)\n",
        "\n",
        "accuracy = accuracy_score(y_test_cluster, y_pred)\n",
        "print(\"Accuracy for cluster sampling using LR :\", accuracy)"
      ]
    },
    {
      "cell_type": "markdown",
      "metadata": {
        "id": "TQp2SgEi1GPy"
      },
      "source": [
        "4. Bootstrap Sampling"
      ]
    },
    {
      "cell_type": "code",
      "execution_count": 21,
      "metadata": {
        "colab": {
          "base_uri": "https://localhost:8080/"
        },
        "id": "0IC0h-Ma1FjR",
        "outputId": "a7ce224e-874f-4325-d51f-8f8125f7d0ce"
      },
      "outputs": [
        {
          "name": "stdout",
          "output_type": "stream",
          "text": [
            "Accuracy for bootstrap sampling using LR : 0.9568965517241379\n"
          ]
        }
      ],
      "source": [
        "X_bootstrap_sample = data_bootstrap_sample.drop('Class', axis = 1)\n",
        "y_bootstrap_sample = data_bootstrap_sample['Class']\n",
        "X_bootstrap_scaled = scaler.fit_transform(X_bootstrap_sample)\n",
        "X_train_bootstrap, X_test_bootstrap, y_train_bootstrap, y_test_bootstrap = train_test_split(X_bootstrap_scaled, y_bootstrap_sample, test_size=0.3, random_state=42)\n",
        "\n",
        "model.fit(X_train_bootstrap, y_train_bootstrap)\n",
        "y_pred = model.predict(X_test_bootstrap)\n",
        "\n",
        "accuracy = accuracy_score(y_test_bootstrap, y_pred)\n",
        "print(\"Accuracy for bootstrap sampling using LR :\", accuracy)"
      ]
    },
    {
      "cell_type": "markdown",
      "metadata": {
        "id": "9XR3fGBp1ogO"
      },
      "source": [
        "**2. SVC SUPPORT VECTOR CLASSIFIER**"
      ]
    },
    {
      "cell_type": "markdown",
      "metadata": {
        "id": "vHb_YZj_1w25"
      },
      "source": [
        "1. Simple Random Sampling"
      ]
    },
    {
      "cell_type": "code",
      "execution_count": 22,
      "metadata": {
        "colab": {
          "base_uri": "https://localhost:8080/"
        },
        "id": "aTQ-yqIp10DJ",
        "outputId": "f5d97571-8a84-4d7b-f926-5a26bd18b061"
      },
      "outputs": [
        {
          "name": "stdout",
          "output_type": "stream",
          "text": [
            "Accuracy of Simple Random Sampling using SVC: 0.9224137931034483\n"
          ]
        }
      ],
      "source": [
        "from sklearn import svm\n",
        "model= svm.SVC()\n",
        "model.fit(X_train_random, y_train_random)\n",
        "y_pred = model.predict(X_test_random)\n",
        "accuracy = accuracy_score(y_test_random, y_pred)\n",
        "print(\"Accuracy of Simple Random Sampling using SVC:\", accuracy)"
      ]
    },
    {
      "cell_type": "markdown",
      "metadata": {
        "id": "D0dJauVW2EVk"
      },
      "source": [
        "2. Systematic Random Sampling"
      ]
    },
    {
      "cell_type": "code",
      "execution_count": 23,
      "metadata": {
        "colab": {
          "base_uri": "https://localhost:8080/"
        },
        "id": "VRAiiQXO2G6l",
        "outputId": "828a90f3-736e-459c-b5d7-fa85b257d7fb"
      },
      "outputs": [
        {
          "name": "stdout",
          "output_type": "stream",
          "text": [
            "Accuracy of Systematic Random Sampling using SVC: 0.9803921568627451\n"
          ]
        }
      ],
      "source": [
        "model.fit(X_train_systematic, y_train_systematic)\n",
        "y_pred = model.predict(X_test_systematic)\n",
        "accuracy = accuracy_score(y_test_systematic, y_pred)\n",
        "print(\"Accuracy of Systematic Random Sampling using SVC:\", accuracy)"
      ]
    },
    {
      "cell_type": "markdown",
      "metadata": {
        "id": "elV963yg2Pxh"
      },
      "source": [
        "3. Cluster Sampling"
      ]
    },
    {
      "cell_type": "code",
      "execution_count": 24,
      "metadata": {
        "colab": {
          "base_uri": "https://localhost:8080/"
        },
        "id": "qejymMBl2SDW",
        "outputId": "fc3ab2d9-5f72-477f-9b9e-29a9f1db4004"
      },
      "outputs": [
        {
          "name": "stdout",
          "output_type": "stream",
          "text": [
            "Accuracy of Cluster Sampling using SVC: 0.9318181818181818\n"
          ]
        }
      ],
      "source": [
        "model.fit(X_train_cluster, y_train_cluster)\n",
        "y_pred = model.predict(X_test_cluster)\n",
        "accuracy = accuracy_score(y_test_cluster, y_pred)\n",
        "print(\"Accuracy of Cluster Sampling using SVC:\", accuracy)"
      ]
    },
    {
      "cell_type": "markdown",
      "metadata": {
        "id": "kYCVHisa2a3K"
      },
      "source": [
        "4. Bootstrap Sampling"
      ]
    },
    {
      "cell_type": "code",
      "execution_count": 25,
      "metadata": {
        "colab": {
          "base_uri": "https://localhost:8080/"
        },
        "id": "mhATRQ3t2c-o",
        "outputId": "a822a9df-6e7a-4ce0-e854-2c2fcd0906db"
      },
      "outputs": [
        {
          "name": "stdout",
          "output_type": "stream",
          "text": [
            "Accuracy of Bootstrap Sampling using SVC: 0.9568965517241379\n"
          ]
        }
      ],
      "source": [
        "model.fit(X_train_bootstrap, y_train_bootstrap)\n",
        "y_pred = model.predict(X_test_bootstrap)\n",
        "accuracy = accuracy_score(y_test_bootstrap, y_pred)\n",
        "print(\"Accuracy of Bootstrap Sampling using SVC:\", accuracy)"
      ]
    },
    {
      "cell_type": "markdown",
      "metadata": {
        "id": "NyHZRfEB2rzA"
      },
      "source": [
        "**3. XGBOOST CLASSIFIER**"
      ]
    },
    {
      "cell_type": "markdown",
      "metadata": {
        "id": "xFTCaFEB25g3"
      },
      "source": [
        "1. Simple Random Sampling"
      ]
    },
    {
      "cell_type": "code",
      "execution_count": 26,
      "metadata": {
        "colab": {
          "base_uri": "https://localhost:8080/"
        },
        "id": "OKLQjJtj28Pu",
        "outputId": "f381489c-65d0-4626-e05d-66a046b18d16"
      },
      "outputs": [
        {
          "name": "stdout",
          "output_type": "stream",
          "text": [
            "Accuracy of Simple Random Sampling using xgb: 0.9482758620689655\n"
          ]
        }
      ],
      "source": [
        "import xgboost as xgb\n",
        "model = xgb.XGBClassifier()\n",
        "model.fit(X_train_random, y_train_random)\n",
        "y_pred = model.predict(X_test_random)\n",
        "accuracy = accuracy_score(y_test_random, y_pred)\n",
        "print(\"Accuracy of Simple Random Sampling using xgb:\", accuracy)"
      ]
    },
    {
      "cell_type": "markdown",
      "metadata": {
        "id": "l23xxPAL3Jwt"
      },
      "source": [
        "2. Systematic Random Sampling"
      ]
    },
    {
      "cell_type": "code",
      "execution_count": 27,
      "metadata": {
        "colab": {
          "base_uri": "https://localhost:8080/"
        },
        "id": "sEY9Vo1E3MP0",
        "outputId": "bacff19c-f324-482b-b31c-316939ff73b6"
      },
      "outputs": [
        {
          "name": "stdout",
          "output_type": "stream",
          "text": [
            "Accuracy of Systematic Random Sampling using xgb: 0.9411764705882353\n"
          ]
        }
      ],
      "source": [
        "model.fit(X_train_systematic, y_train_systematic)\n",
        "y_pred = model.predict(X_test_systematic)\n",
        "accuracy = accuracy_score(y_test_systematic, y_pred)\n",
        "print(\"Accuracy of Systematic Random Sampling using xgb:\", accuracy)"
      ]
    },
    {
      "cell_type": "markdown",
      "metadata": {
        "id": "2zZo94fh3RTA"
      },
      "source": [
        "3. Cluster Sampling"
      ]
    },
    {
      "cell_type": "code",
      "execution_count": 28,
      "metadata": {
        "colab": {
          "base_uri": "https://localhost:8080/"
        },
        "id": "Cb5P5O9o3Tjh",
        "outputId": "1fb7b6db-a850-4abf-8a42-9b83d664859d"
      },
      "outputs": [
        {
          "name": "stdout",
          "output_type": "stream",
          "text": [
            "Accuracy of Cluster Sampling using xgb: 0.9318181818181818\n"
          ]
        }
      ],
      "source": [
        "model.fit(X_train_cluster, y_train_cluster)\n",
        "y_pred = model.predict(X_test_cluster)\n",
        "accuracy = accuracy_score(y_test_cluster, y_pred)\n",
        "print(\"Accuracy of Cluster Sampling using xgb:\", accuracy)"
      ]
    },
    {
      "cell_type": "markdown",
      "metadata": {
        "id": "P21T9hiT3Yiz"
      },
      "source": [
        "4. Bootstrap Sampling"
      ]
    },
    {
      "cell_type": "code",
      "execution_count": 29,
      "metadata": {
        "colab": {
          "base_uri": "https://localhost:8080/"
        },
        "id": "q_E7LAJB3bC9",
        "outputId": "65dcac4c-b772-4269-e69a-18cc479c86fe"
      },
      "outputs": [
        {
          "name": "stdout",
          "output_type": "stream",
          "text": [
            "Accuracy of Bootstrap Sampling using xgb: 0.9741379310344828\n"
          ]
        }
      ],
      "source": [
        "model.fit(X_train_bootstrap, y_train_bootstrap)\n",
        "y_pred = model.predict(X_test_bootstrap)\n",
        "accuracy = accuracy_score(y_test_bootstrap, y_pred)\n",
        "print(\"Accuracy of Bootstrap Sampling using xgb:\", accuracy)"
      ]
    },
    {
      "cell_type": "markdown",
      "metadata": {
        "id": "MeavGkqX3hn0"
      },
      "source": [
        "**4. RANDOM FOREST**"
      ]
    },
    {
      "cell_type": "markdown",
      "metadata": {
        "id": "B50jJJm33lbj"
      },
      "source": [
        "1. Simple Random Sampling"
      ]
    },
    {
      "cell_type": "code",
      "execution_count": 30,
      "metadata": {
        "colab": {
          "base_uri": "https://localhost:8080/"
        },
        "id": "YBdsWH963ni-",
        "outputId": "19daff48-b4f3-4bbb-c6ca-4438275164e6"
      },
      "outputs": [
        {
          "name": "stdout",
          "output_type": "stream",
          "text": [
            "Accuracy of Simple Random Sampling using RF: 0.9827586206896551\n"
          ]
        }
      ],
      "source": [
        "from sklearn.ensemble import RandomForestClassifier\n",
        "model = RandomForestClassifier(n_estimators=20, random_state=42)\n",
        "model.fit(X_train_random, y_train_random)\n",
        "y_pred = model.predict(X_test_random)\n",
        "accuracy = accuracy_score(y_test_random, y_pred)\n",
        "print(\"Accuracy of Simple Random Sampling using RF:\", accuracy)"
      ]
    },
    {
      "cell_type": "markdown",
      "metadata": {
        "id": "6I3kVyZT3ylf"
      },
      "source": [
        "2. Sytematic Random Sampling"
      ]
    },
    {
      "cell_type": "code",
      "execution_count": 31,
      "metadata": {
        "colab": {
          "base_uri": "https://localhost:8080/"
        },
        "id": "3B5I_EZg31YX",
        "outputId": "daac0c6b-0422-4c3e-aba4-be622421f524"
      },
      "outputs": [
        {
          "name": "stdout",
          "output_type": "stream",
          "text": [
            "Accuracy of Systematic Random Sampling using RF: 0.9803921568627451\n"
          ]
        }
      ],
      "source": [
        "model.fit(X_train_systematic, y_train_systematic)\n",
        "y_pred = model.predict(X_test_systematic)\n",
        "accuracy = accuracy_score(y_test_systematic, y_pred)\n",
        "print(\"Accuracy of Systematic Random Sampling using RF:\", accuracy)"
      ]
    },
    {
      "cell_type": "markdown",
      "metadata": {
        "id": "BfpAmuFW36dp"
      },
      "source": [
        "3. Cluster Sampling"
      ]
    },
    {
      "cell_type": "code",
      "execution_count": 32,
      "metadata": {
        "colab": {
          "base_uri": "https://localhost:8080/"
        },
        "id": "p0IJZHo238xk",
        "outputId": "9ca20c4b-9291-44fe-9f5e-891b68be97d4"
      },
      "outputs": [
        {
          "name": "stdout",
          "output_type": "stream",
          "text": [
            "Accuracy of Cluster Sampling using RF: 0.9886363636363636\n"
          ]
        }
      ],
      "source": [
        "model.fit(X_train_cluster, y_train_cluster)\n",
        "y_pred = model.predict(X_test_cluster)\n",
        "accuracy = accuracy_score(y_test_cluster, y_pred)\n",
        "print(\"Accuracy of Cluster Sampling using RF:\", accuracy)"
      ]
    },
    {
      "cell_type": "markdown",
      "metadata": {
        "id": "JKdBo9zg4A06"
      },
      "source": [
        "4. Bootstrap Sampling"
      ]
    },
    {
      "cell_type": "code",
      "execution_count": 33,
      "metadata": {
        "colab": {
          "base_uri": "https://localhost:8080/"
        },
        "id": "E3OTx9ZH4EH4",
        "outputId": "9f881930-a0f3-41e4-9f48-a82ddda01ab1"
      },
      "outputs": [
        {
          "name": "stdout",
          "output_type": "stream",
          "text": [
            "Accuracy of Bootstrap Sampling using RF: 1.0\n"
          ]
        }
      ],
      "source": [
        "model.fit(X_train_bootstrap, y_train_bootstrap)\n",
        "y_pred = model.predict(X_test_bootstrap)\n",
        "accuracy = accuracy_score(y_test_bootstrap, y_pred)\n",
        "print(\"Accuracy of Bootstrap Sampling using RF:\", accuracy)"
      ]
    },
    {
      "cell_type": "markdown",
      "metadata": {
        "id": "leToYPCs4KdG"
      },
      "source": [
        "\n",
        "\n",
        "**5. GAUSSIAN NAIVE BAYES**"
      ]
    },
    {
      "cell_type": "markdown",
      "metadata": {
        "id": "lMOUgGqX4T01"
      },
      "source": [
        "1. Simple Random Sampling"
      ]
    },
    {
      "cell_type": "code",
      "execution_count": 34,
      "metadata": {
        "colab": {
          "base_uri": "https://localhost:8080/"
        },
        "id": "vby2guJu4XBH",
        "outputId": "c7155bf6-91da-4f90-b9f5-4c437a389420"
      },
      "outputs": [
        {
          "name": "stdout",
          "output_type": "stream",
          "text": [
            "Accuracy of Simple Random Sampling using NB: 0.8879310344827587\n"
          ]
        }
      ],
      "source": [
        "from sklearn.naive_bayes import GaussianNB\n",
        "model = GaussianNB()\n",
        "model.fit(X_train_random, y_train_random)\n",
        "y_pred = model.predict(X_test_random)\n",
        "accuracy = accuracy_score(y_test_random, y_pred)\n",
        "print(\"Accuracy of Simple Random Sampling using NB:\", accuracy)"
      ]
    },
    {
      "cell_type": "markdown",
      "metadata": {
        "id": "YS6YYZlB4fy-"
      },
      "source": [
        "2. Systematic Random Sampling"
      ]
    },
    {
      "cell_type": "code",
      "execution_count": 35,
      "metadata": {
        "colab": {
          "base_uri": "https://localhost:8080/"
        },
        "id": "9mwKPc6k4jPa",
        "outputId": "4dc8f434-fafc-42ab-8bb2-5f8c3679bace"
      },
      "outputs": [
        {
          "name": "stdout",
          "output_type": "stream",
          "text": [
            "Accuracy of Systematic Random Sampling using NB: 0.8888888888888888\n"
          ]
        }
      ],
      "source": [
        "model.fit(X_train_systematic, y_train_systematic)\n",
        "y_pred = model.predict(X_test_systematic)\n",
        "accuracy = accuracy_score(y_test_systematic, y_pred)\n",
        "print(\"Accuracy of Systematic Random Sampling using NB:\", accuracy)"
      ]
    },
    {
      "cell_type": "markdown",
      "metadata": {
        "id": "VPuvwlXh4oBq"
      },
      "source": [
        "3. Cluster Sampling"
      ]
    },
    {
      "cell_type": "code",
      "execution_count": 36,
      "metadata": {
        "colab": {
          "base_uri": "https://localhost:8080/"
        },
        "id": "vs5I97_A4qI0",
        "outputId": "bb8319a9-1fb7-48d1-b199-2488af4063dc"
      },
      "outputs": [
        {
          "name": "stdout",
          "output_type": "stream",
          "text": [
            "Accuracy of Cluster Sampling using NB: 0.8522727272727273\n"
          ]
        }
      ],
      "source": [
        "model.fit(X_train_cluster, y_train_cluster)\n",
        "y_pred = model.predict(X_test_cluster)\n",
        "accuracy = accuracy_score(y_test_cluster, y_pred)\n",
        "print(\"Accuracy of Cluster Sampling using NB:\", accuracy)"
      ]
    },
    {
      "cell_type": "markdown",
      "metadata": {
        "id": "cuyOrM1X4uHP"
      },
      "source": [
        "4. Bootstrap Sampling"
      ]
    },
    {
      "cell_type": "code",
      "execution_count": 37,
      "metadata": {
        "colab": {
          "base_uri": "https://localhost:8080/"
        },
        "id": "W72aV0Q_4wqz",
        "outputId": "88f2cd66-2a66-4469-f77d-66289340c418"
      },
      "outputs": [
        {
          "name": "stdout",
          "output_type": "stream",
          "text": [
            "Accuracy of Bootstrap Sampling using NB: 0.853448275862069\n"
          ]
        }
      ],
      "source": [
        "model.fit(X_train_bootstrap, y_train_bootstrap)\n",
        "y_pred = model.predict(X_test_bootstrap)\n",
        "accuracy = accuracy_score(y_test_bootstrap, y_pred)\n",
        "print(\"Accuracy of Bootstrap Sampling using NB:\", accuracy)"
      ]
    }
  ],
  "metadata": {
    "colab": {
      "provenance": []
    },
    "kernelspec": {
      "display_name": "Python 3",
      "name": "python3"
    },
    "language_info": {
      "codemirror_mode": {
        "name": "ipython",
        "version": 3
      },
      "file_extension": ".py",
      "mimetype": "text/x-python",
      "name": "python",
      "nbconvert_exporter": "python",
      "pygments_lexer": "ipython3",
      "version": "3.10.12"
    }
  },
  "nbformat": 4,
  "nbformat_minor": 0
}
